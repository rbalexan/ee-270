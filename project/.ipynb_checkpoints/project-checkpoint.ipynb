{
 "cells": [
  {
   "cell_type": "code",
   "execution_count": null,
   "metadata": {},
   "outputs": [],
   "source": [
    "using TensorOperations\n",
    "\n",
    "𝒮 = 1:100\n",
    "𝒜 = 1:3\n",
    "𝒪 = 1:100\n",
    "\n",
    "α = zeros(length(𝒮), length(𝒜))\n",
    "\n",
    "T = zeros(length(𝒮), length(𝒜), length(𝒮))\n",
    "R = zeros(length(𝒮), length(𝒜))\n",
    "O = zeros(length(𝒮), length(𝒜), length(𝒪))\n",
    "\n",
    "γ = 0.99\n",
    "\n",
    "R[80] = 10"
   ]
  },
  {
   "cell_type": "code",
   "execution_count": null,
   "metadata": {},
   "outputs": [],
   "source": [
    "for s ∈ 𝒮, a ∈ 𝒜, s′ ∈ 𝒮\n",
    "    \n",
    "    if a == 1 && s ≠ 1 & s′ == s-1\n",
    "        T[s, a, s′] = 1\n",
    "    elseif a == 2 && s′ == s\n",
    "        T[s, a, s′] = 1\n",
    "    elseif a == 3 && s ≠ 100 & s′ == s+1\n",
    "        T[s, a, s′] = 1\n",
    "    end\n",
    "\n",
    "end"
   ]
  },
  {
   "cell_type": "code",
   "execution_count": null,
   "metadata": {},
   "outputs": [],
   "source": [
    "for s′ ∈ 𝒮, a ∈ 𝒜, o ∈ 𝒪\n",
    "    \n",
    "    if s′ == 1 && s′ == o\n",
    "        O[s′, a, o]   = 0.5\n",
    "        O[s′, a, o+1] = 0.5\n",
    "    elseif s′ == 100 && s′ == o\n",
    "        O[s′, a, o]   = 0.5\n",
    "        O[s′, a, o-1] = 0.5\n",
    "    elseif s′ == o\n",
    "        O[s′, a, o+1] = 1/3\n",
    "        O[s′, a, o]   = 1/3\n",
    "        O[s′, a, o-1] = 1/3\n",
    "    end\n",
    "\n",
    "end"
   ]
  },
  {
   "cell_type": "code",
   "execution_count": null,
   "metadata": {},
   "outputs": [],
   "source": [
    "A = []\n",
    "push!(A, zeros(length(𝒮), length(𝒜)));\n",
    "push!(A, R + γ*sum(T[:,:,s′]*sum(O,dims=3)[s′,:,:] for s′ in 𝒮)) #*maximum(A[1],dims=2)[s′] "
   ]
  },
  {
   "cell_type": "code",
   "execution_count": null,
   "metadata": {},
   "outputs": [],
   "source": [
    "@tensor "
   ]
  },
  {
   "cell_type": "code",
   "execution_count": null,
   "metadata": {},
   "outputs": [],
   "source": [
    "# #A = R + γ*T* maximum(α, dims=2)\n",
    "\n",
    "# A′ = maximum(α, dims=2)\n",
    "# O′ = dropdims(sum(O, dims=3), dims=3)\n",
    "# AO′ = O′.*A′\n",
    "# T′  = T*AO′"
   ]
  },
  {
   "cell_type": "code",
   "execution_count": 94,
   "metadata": {},
   "outputs": [
    {
     "data": {
      "text/plain": [
       "K (generic function with 1 method)"
      ]
     },
     "execution_count": 94,
     "metadata": {},
     "output_type": "execute_result"
    }
   ],
   "source": [
    "X = -10:1:10\n",
    "y = log.(1 .+ abs.(X).^(2 .+ sin.(X)))\n",
    "\n",
    "μ(X, m)     = [m(x) for x in X]\n",
    "Σ(X, k)     = [k(x, x′) for x in X, x′ in X]\n",
    "K(X, X′, k) = [k(x, x′) for x in X, x′ in X′]"
   ]
  },
  {
   "cell_type": "code",
   "execution_count": 95,
   "metadata": {},
   "outputs": [
    {
     "data": {
      "text/plain": [
       "squared_exponential_kernel (generic function with 1 method)"
      ]
     },
     "execution_count": 95,
     "metadata": {},
     "output_type": "execute_result"
    }
   ],
   "source": [
    "zero_mean(x) = 0\n",
    "squared_exponential_kernel(x, x′, l) = exp(-norm(x - x′)^2/l^2)"
   ]
  },
  {
   "cell_type": "code",
   "execution_count": 96,
   "metadata": {},
   "outputs": [
    {
     "data": {
      "text/plain": [
       "se_kernel_1 (generic function with 1 method)"
      ]
     },
     "execution_count": 96,
     "metadata": {},
     "output_type": "execute_result"
    }
   ],
   "source": [
    "se_kernel_1(x, x′) = squared_exponential_kernel(x, x′, 1)"
   ]
  },
  {
   "cell_type": "code",
   "execution_count": 97,
   "metadata": {},
   "outputs": [
    {
     "data": {
      "text/plain": [
       "Plots.PyPlotBackend()"
      ]
     },
     "execution_count": 97,
     "metadata": {},
     "output_type": "execute_result"
    }
   ],
   "source": [
    "using Plots; pyplot()"
   ]
  },
  {
   "cell_type": "code",
   "execution_count": 98,
   "metadata": {},
   "outputs": [],
   "source": [
    "mutable struct GaussianProcess\n",
    "    m \n",
    "    k\n",
    "    X\n",
    "    y\n",
    "    ν\n",
    "end\n",
    "\n",
    "using LinearAlgebra"
   ]
  },
  {
   "cell_type": "code",
   "execution_count": 99,
   "metadata": {},
   "outputs": [
    {
     "data": {
      "text/plain": [
       "get_predict_functions (generic function with 1 method)"
      ]
     },
     "execution_count": 99,
     "metadata": {},
     "output_type": "execute_result"
    }
   ],
   "source": [
    "function get_predict_functions(X, y, m, k, ν)\n",
    "\n",
    "    μ̂(x) = μ(x, m)    + K(x, X, k)*(K(X, X, k) + ν*I)^-1*(y - μ(X, m))\n",
    "    ν̂(x) = K(x, x, k) - K(x, X, k)*(K(X, X, k) + ν*I)^-1*K(X, x, k)\n",
    "    \n",
    "    return μ̂, ν̂\n",
    "    \n",
    "end"
   ]
  },
  {
   "cell_type": "code",
   "execution_count": 103,
   "metadata": {},
   "outputs": [
    {
     "data": {
      "text/plain": [
       "(μ̂, ν̂)"
      ]
     },
     "execution_count": 103,
     "metadata": {},
     "output_type": "execute_result"
    }
   ],
   "source": [
    "μ̂, ν̂ = get_predict_functions(X, y, zero_mean, (x, x′) -> squared_exponential_kernel(x, x′, 10^0.4), 0)"
   ]
  },
  {
   "cell_type": "code",
   "execution_count": 104,
   "metadata": {},
   "outputs": [
    {
     "data": {
      "image/png": "[encoded data removed]"
     },
     "execution_count": 104,
     "metadata": {},
     "output_type": "execute_result"
    }
   ],
   "source": [
    "scatter(X, y)\n",
    "X_plot = -10:0.01:10\n",
    "plot!(X_plot, μ̂(X_plot), ribbon=diag(ν̂(X_plot)), alpha=0.3)"
   ]
  },
  {
   "cell_type": "code",
   "execution_count": 102,
   "metadata": {},
   "outputs": [
    {
     "data": {
      "image/png": "[encoded data removed]"
     },
     "execution_count": 102,
     "metadata": {},
     "output_type": "execute_result"
    }
   ],
   "source": [
    "n = size(X)[1]\n",
    "\n",
    "function ℒ(θ, ν) \n",
    "    \n",
    "    return -n/2*log(π) - \n",
    "            1/2*log(det(K(X, X, (x, x′) -> squared_exponential_kernel(x, x′, θ)) + ν*I)) - \n",
    "            1/2*(y-μ(X, zero_mean))'*(K(X, X, (x, x′) -> squared_exponential_kernel(x, x′, θ)) + ν*I)^-1*(y-μ(X, zero_mean))\n",
    "    \n",
    "end\n",
    "\n",
    "θs = 10 .^ (-1:0.05:3)\n",
    "νs = 10 .^ (-1:0.05:0)\n",
    "contourf(θs, νs, [ℒ(θ, ν) for ν in νs, θ in θs], xscale=:log10, yscale=:log10, box=:on, \n",
    "            xlabel=\"θ\", ylabel=\"ν\", levels=50, color=:Spectral_r, title=\"Log-Likelihood of Data\")"
   ]
  },
  {
   "cell_type": "code",
   "execution_count": 68,
   "metadata": {},
   "outputs": [
    {
     "data": {
      "text/plain": [
       "31-element Array{Float64,1}:\n",
       "   0.1\n",
       "   0.12589254117941673\n",
       "   0.15848931924611134\n",
       "   0.19952623149688797\n",
       "   0.251188643150958\n",
       "   0.31622776601683794\n",
       "   0.3981071705534972\n",
       "   0.5011872336272722\n",
       "   0.6309573444801932\n",
       "   0.7943282347242815\n",
       "   1.0\n",
       "   1.2589254117941673\n",
       "   1.5848931924611136\n",
       "   ⋮\n",
       "   7.943282347242816\n",
       "  10.0\n",
       "  12.589254117941675\n",
       "  15.848931924611133\n",
       "  19.952623149688797\n",
       "  25.118864315095795\n",
       "  31.622776601683793\n",
       "  39.810717055349734\n",
       "  50.11872336272722\n",
       "  63.09573444801933\n",
       "  79.43282347242814\n",
       " 100.0"
      ]
     },
     "execution_count": 68,
     "metadata": {},
     "output_type": "execute_result"
    }
   ],
   "source": [
    "θs"
   ]
  },
  {
   "cell_type": "code",
   "execution_count": null,
   "metadata": {},
   "outputs": [],
   "source": []
  }
 ],
 "metadata": {
  "@webio": {
   "lastCommId": null,
   "lastKernelId": null
  },
  "kernelspec": {
   "display_name": "Julia 1.5.3",
   "language": "julia",
   "name": "julia-1.5"
  },
  "language_info": {
   "file_extension": ".jl",
   "mimetype": "application/julia",
   "name": "julia",
   "version": "1.5.3"
  }
 },
 "nbformat": 4,
 "nbformat_minor": 4
}
